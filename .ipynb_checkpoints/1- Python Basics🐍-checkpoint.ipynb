{
 "cells": [
  {
   "cell_type": "markdown",
   "id": "d83f9905",
   "metadata": {},
   "source": [
    "# Saturdays.AI Guadalajara 4a Ed. \n",
    "### Python Basics\n",
    "\n",
    "#### Luis Román\n",
    "\n",
    "### Agosto de 2022"
   ]
  },
  {
   "cell_type": "markdown",
   "id": "6cae9230",
   "metadata": {},
   "source": [
    "### Comentarios"
   ]
  },
  {
   "cell_type": "code",
   "execution_count": 6,
   "id": "0658b566",
   "metadata": {},
   "outputs": [],
   "source": [
    "# Comentario\n",
    "\n",
    "python = \"fácil\"  # Comentario en línea de código\n",
    "\n",
    "\n",
    "'''\n",
    "Docstring, para comentar funciones o clases\n",
    "\n",
    "'''\n",
    "def funcion_ejemplo():\n",
    "    print(\"Hola\")"
   ]
  },
  {
   "cell_type": "markdown",
   "id": "c13a1c67",
   "metadata": {},
   "source": [
    "### Tipos de datos"
   ]
  },
  {
   "cell_type": "markdown",
   "id": "4b6a9c8d",
   "metadata": {},
   "source": [
    "#### Número entero\n",
    "#### -1, 0, 1, 2, 3"
   ]
  },
  {
   "cell_type": "code",
   "execution_count": 32,
   "id": "5cdacbd6",
   "metadata": {},
   "outputs": [
    {
     "data": {
      "text/plain": [
       "int"
      ]
     },
     "execution_count": 32,
     "metadata": {},
     "output_type": "execute_result"
    }
   ],
   "source": [
    "type(-5)"
   ]
  },
  {
   "cell_type": "markdown",
   "id": "87276416",
   "metadata": {},
   "source": [
    "#### Número de punto flotante\n",
    "#### -2.0, -1.0, 0.0, 1.0, 2.0"
   ]
  },
  {
   "cell_type": "code",
   "execution_count": 9,
   "id": "dbd8fc7e",
   "metadata": {},
   "outputs": [
    {
     "data": {
      "text/plain": [
       "float"
      ]
     },
     "execution_count": 9,
     "metadata": {},
     "output_type": "execute_result"
    }
   ],
   "source": [
    "type(5.0)"
   ]
  },
  {
   "cell_type": "markdown",
   "id": "e2e1f2ca",
   "metadata": {},
   "source": [
    "#### Cadenas de  texto\n",
    "#### \"Hola\", \"mundo\""
   ]
  },
  {
   "cell_type": "code",
   "execution_count": 82,
   "id": "356fff67",
   "metadata": {},
   "outputs": [
    {
     "name": "stdout",
     "output_type": "stream",
     "text": [
      "o\n"
     ]
    },
    {
     "data": {
      "text/plain": [
       "str"
      ]
     },
     "execution_count": 82,
     "metadata": {},
     "output_type": "execute_result"
    }
   ],
   "source": [
    "mensaje = \"Hola Mundo\"\n",
    "print(mensaje[-1])\n",
    "type(\"Hola Mundo\")"
   ]
  },
  {
   "cell_type": "markdown",
   "id": "9e020e04",
   "metadata": {},
   "source": [
    "#### Booleanos\n",
    "#### True, False"
   ]
  },
  {
   "cell_type": "code",
   "execution_count": 13,
   "id": "c713ccdb",
   "metadata": {},
   "outputs": [
    {
     "data": {
      "text/plain": [
       "bool"
      ]
     },
     "execution_count": 13,
     "metadata": {},
     "output_type": "execute_result"
    }
   ],
   "source": [
    "type(True)"
   ]
  },
  {
   "cell_type": "markdown",
   "id": "1f40b33e",
   "metadata": {},
   "source": [
    "#### Complejos\n",
    "#### 2+2j"
   ]
  },
  {
   "cell_type": "code",
   "execution_count": 27,
   "id": "1183f92f",
   "metadata": {},
   "outputs": [
    {
     "data": {
      "text/plain": [
       "complex"
      ]
     },
     "execution_count": 27,
     "metadata": {},
     "output_type": "execute_result"
    }
   ],
   "source": [
    "type(2+2j)"
   ]
  },
  {
   "cell_type": "markdown",
   "id": "95ab5da2",
   "metadata": {},
   "source": [
    "### Operadores Matemáticos"
   ]
  },
  {
   "cell_type": "code",
   "execution_count": 57,
   "id": "916d872c",
   "metadata": {},
   "outputs": [
    {
     "data": {
      "text/plain": [
       "4"
      ]
     },
     "execution_count": 57,
     "metadata": {},
     "output_type": "execute_result"
    }
   ],
   "source": [
    "# 4 Suma \"+\"\n",
    "2+2"
   ]
  },
  {
   "cell_type": "code",
   "execution_count": 58,
   "id": "0199b49d",
   "metadata": {},
   "outputs": [
    {
     "data": {
      "text/plain": [
       "2"
      ]
     },
     "execution_count": 58,
     "metadata": {},
     "output_type": "execute_result"
    }
   ],
   "source": [
    "# 4 Resta \"-\"\n",
    "5-3"
   ]
  },
  {
   "cell_type": "code",
   "execution_count": 59,
   "id": "e54150f1",
   "metadata": {},
   "outputs": [
    {
     "data": {
      "text/plain": [
       "4"
      ]
     },
     "execution_count": 59,
     "metadata": {},
     "output_type": "execute_result"
    }
   ],
   "source": [
    "# 3 Multiplicación \"*\"\n",
    "2*2"
   ]
  },
  {
   "cell_type": "code",
   "execution_count": 60,
   "id": "7f4a1b07",
   "metadata": {},
   "outputs": [
    {
     "data": {
      "text/plain": [
       "10.0"
      ]
     },
     "execution_count": 60,
     "metadata": {},
     "output_type": "execute_result"
    }
   ],
   "source": [
    "# 3 División \"/\"\n",
    "90 / 9"
   ]
  },
  {
   "cell_type": "code",
   "execution_count": 61,
   "id": "cc5014bf",
   "metadata": {},
   "outputs": [
    {
     "data": {
      "text/plain": [
       "10"
      ]
     },
     "execution_count": 61,
     "metadata": {},
     "output_type": "execute_result"
    }
   ],
   "source": [
    "# 3 División de entero \"//\"\n",
    "90//9"
   ]
  },
  {
   "cell_type": "code",
   "execution_count": 62,
   "id": "9870bd75",
   "metadata": {},
   "outputs": [
    {
     "data": {
      "text/plain": [
       "2"
      ]
     },
     "execution_count": 62,
     "metadata": {},
     "output_type": "execute_result"
    }
   ],
   "source": [
    "# 2 Módulo \"%\"\n",
    "2 % 4"
   ]
  },
  {
   "cell_type": "code",
   "execution_count": 63,
   "id": "6cd8191b",
   "metadata": {},
   "outputs": [
    {
     "data": {
      "text/plain": [
       "100"
      ]
     },
     "execution_count": 63,
     "metadata": {},
     "output_type": "execute_result"
    }
   ],
   "source": [
    "# 2 Exponente \"**\"\n",
    "10 ** 2"
   ]
  },
  {
   "cell_type": "markdown",
   "id": "c7480295",
   "metadata": {},
   "source": [
    "### Variables"
   ]
  },
  {
   "cell_type": "code",
   "execution_count": 64,
   "id": "cc5af935",
   "metadata": {},
   "outputs": [
    {
     "name": "stdout",
     "output_type": "stream",
     "text": [
      "2\n"
     ]
    }
   ],
   "source": [
    "# Asignación con \"=\"\n",
    "numero = 1\n",
    "apellido_materno = \"Roman\" \n",
    "\n",
    "# Asignación incremental, dec [\"+=\", \"-=\"]\n",
    "numero_inicial = 1\n",
    "numero_inicial += 1\n",
    "print(numero_inicial)"
   ]
  },
  {
   "cell_type": "markdown",
   "id": "bd97c963",
   "metadata": {},
   "source": [
    "### Funciones internas"
   ]
  },
  {
   "cell_type": "markdown",
   "id": "7648bcc6",
   "metadata": {},
   "source": [
    "https://docs.python.org/3/library/functions.html"
   ]
  },
  {
   "cell_type": "code",
   "execution_count": 78,
   "id": "8b263ac4",
   "metadata": {},
   "outputs": [
    {
     "name": "stdout",
     "output_type": "stream",
     "text": [
      "soy programador\n"
     ]
    },
    {
     "data": {
      "text/plain": [
       "15"
      ]
     },
     "execution_count": 78,
     "metadata": {},
     "output_type": "execute_result"
    }
   ],
   "source": [
    "mensaje = \"soy programador\"\n",
    "print(mensaje)\n",
    "len(mensaje)"
   ]
  },
  {
   "cell_type": "code",
   "execution_count": 73,
   "id": "9d3be308",
   "metadata": {},
   "outputs": [
    {
     "name": "stdout",
     "output_type": "stream",
     "text": [
      "Hola me llamo Luis y soy programador\n",
      "Hola me llamo Luis y soy programador\n",
      "Hola me llamo Luis y soy programador\n"
     ]
    }
   ],
   "source": [
    "print(f'Hola me llamo Luis y {mensaje}')\n",
    "print('Hola me llamo Luis y {}'.format(mensaje))\n",
    "print('Hola me llamo Luis y', mensaje)"
   ]
  },
  {
   "cell_type": "code",
   "execution_count": 83,
   "id": "ed26e3d9",
   "metadata": {},
   "outputs": [
    {
     "name": "stdout",
     "output_type": "stream",
     "text": [
      "Ingrese un saludo por favor.Hola\n",
      "Hola\n"
     ]
    }
   ],
   "source": [
    "# Función input\n",
    "saludo = input(\"Ingrese un saludo por favor.\")\n",
    "print(saludo)"
   ]
  },
  {
   "cell_type": "code",
   "execution_count": 75,
   "id": "11da3f95",
   "metadata": {},
   "outputs": [
    {
     "data": {
      "text/plain": [
       "2.0"
      ]
     },
     "execution_count": 75,
     "metadata": {},
     "output_type": "execute_result"
    }
   ],
   "source": [
    "# Convertidores\n",
    "str(29)\n",
    "int('11')\n",
    "float('2.0')"
   ]
  },
  {
   "cell_type": "markdown",
   "id": "74431e25",
   "metadata": {},
   "source": [
    "### Estructuras de control"
   ]
  },
  {
   "cell_type": "raw",
   "id": "8793b537",
   "metadata": {},
   "source": [
    "Operadores de comparación\n",
    "\n",
    "== Igual a\n",
    "!= Diferente de\n",
    "<  Menor que\n",
    ">  Mayor que\n",
    "<= Menor o igual que\n",
    ">= Mayor o igual que\n",
    "\n",
    "Operadores booleanos\n",
    "\n",
    "and\n",
    "or\n",
    "not"
   ]
  },
  {
   "cell_type": "markdown",
   "id": "47c9a838",
   "metadata": {},
   "source": [
    "### Sentencia if, elif, else"
   ]
  },
  {
   "cell_type": "code",
   "execution_count": 98,
   "id": "5f8088ec",
   "metadata": {},
   "outputs": [
    {
     "name": "stdout",
     "output_type": "stream",
     "text": [
      "Es un lenguaje interpretado\n"
     ]
    }
   ],
   "source": [
    "# Condicionales\n",
    "lenguaje = \"Python\"\n",
    "\n",
    "if lenguaje == \"Python\":\n",
    "    print(\"Es un lenguaje interpretado\")\n",
    "elif lenguaje == \"Go\" or lenguaje == \"C\":\n",
    "    print(\"Es un lenguaje compilado\")\n",
    "else:\n",
    "    print(\"¿Es Java?\")\n",
    "    "
   ]
  },
  {
   "cell_type": "code",
   "execution_count": 99,
   "id": "7d755cab",
   "metadata": {},
   "outputs": [
    {
     "name": "stdout",
     "output_type": "stream",
     "text": [
      "Python Es un lenguaje interpretado\n"
     ]
    }
   ],
   "source": [
    "#Operador Ternario\n",
    "print(lenguaje, \"Es un lenguaje interpretado\" if lenguaje == \"Python\" else \"Es un lenguaje compilado\")"
   ]
  },
  {
   "cell_type": "markdown",
   "id": "570bf00e",
   "metadata": {},
   "source": [
    "### Ciclos"
   ]
  },
  {
   "cell_type": "markdown",
   "id": "29b1b7cc",
   "metadata": {},
   "source": [
    "#### Cliclo for"
   ]
  },
  {
   "cell_type": "code",
   "execution_count": 103,
   "id": "3e628a8e",
   "metadata": {},
   "outputs": [
    {
     "name": "stdout",
     "output_type": "stream",
     "text": [
      "H\n",
      "o\n",
      "l\n",
      "a\n",
      " \n",
      "M\n",
      "u\n",
      "n\n",
      "d\n",
      "o\n"
     ]
    }
   ],
   "source": [
    "\"\"\"\n",
    "Funciona para iterar cadenas de texto, listas\n",
    "tuplas, diccionarios y sets\n",
    "\"\"\"\n",
    "mensaje = \"Hola Mundo\"\n",
    "for letra in mensaje:\n",
    "    print(letra)"
   ]
  },
  {
   "cell_type": "code",
   "execution_count": 106,
   "id": "92e12bfe",
   "metadata": {},
   "outputs": [
    {
     "name": "stdout",
     "output_type": "stream",
     "text": [
      "1\n",
      "2\n",
      "3\n"
     ]
    }
   ],
   "source": [
    "\"\"\"\n",
    "En combinación con la función range()\n",
    "para iterar con un número como límite\n",
    "\"\"\"\n",
    "for i in range(3):\n",
    "    print(i+1)"
   ]
  },
  {
   "cell_type": "code",
   "execution_count": 112,
   "id": "5c5bdf71",
   "metadata": {},
   "outputs": [
    {
     "name": "stdout",
     "output_type": "stream",
     "text": [
      "0\n",
      "2\n",
      "4\n",
      "6\n",
      "8\n"
     ]
    }
   ],
   "source": [
    "\"\"\"\n",
    "Cuando se usa la función range()\n",
    "se puede indicar el punto de inicio, final y el paso\n",
    "\"\"\"\n",
    "for i in range(0, 10, 2):\n",
    "    print(i)"
   ]
  },
  {
   "cell_type": "code",
   "execution_count": 116,
   "id": "cc66988e",
   "metadata": {},
   "outputs": [
    {
     "name": "stdout",
     "output_type": "stream",
     "text": [
      "El conteo concluyó\n"
     ]
    }
   ],
   "source": [
    "\"\"\"\n",
    "For else, nos permite agregar una condición sí no,\n",
    "cuando se puede romper la iteración con break\n",
    "\"\"\"\n",
    "for i in [1, 2, 3, 4, 5]:\n",
    "    if i == 6:\n",
    "        break\n",
    "else:\n",
    "    print(\"El conteo concluyó\")"
   ]
  },
  {
   "cell_type": "markdown",
   "id": "13792c13",
   "metadata": {},
   "source": [
    "#### Cliclo while\n"
   ]
  },
  {
   "cell_type": "code",
   "execution_count": 120,
   "id": "4700f047",
   "metadata": {},
   "outputs": [
    {
     "name": "stdout",
     "output_type": "stream",
     "text": [
      "¿Cuál es tu nombre? asdasd\n",
      "Nombre equivocado\n",
      "¿Cuál es tu nombre? luis\n",
      "Nombre correcto\n"
     ]
    }
   ],
   "source": [
    "respuesta = False\n",
    "while respuesta != True:\n",
    "    nombre = input(\"¿Cuál es tu nombre? \")\n",
    "    if nombre.lower() == \"luis\":\n",
    "        print(\"Nombre correcto\")\n",
    "        respuesta = True\n",
    "        break\n",
    "    else:\n",
    "        print(\"Nombre equivocado\")\n",
    "        continue\n",
    "    "
   ]
  },
  {
   "cell_type": "markdown",
   "id": "f17cc703",
   "metadata": {},
   "source": [
    "### Funciones"
   ]
  },
  {
   "cell_type": "code",
   "execution_count": 153,
   "id": "f7b97132",
   "metadata": {},
   "outputs": [
    {
     "name": "stdout",
     "output_type": "stream",
     "text": [
      "Hola,  Luis\n"
     ]
    }
   ],
   "source": [
    "\"\"\"\n",
    "Bloque de código de propósito específico\n",
    "que permite mayor modularidad\n",
    "\"\"\"\n",
    "\n",
    "def saludo(nombre):\n",
    "    print(\"Hola, \", nombre)\n",
    "          \n",
    "saludo(\"Luis\")"
   ]
  },
  {
   "cell_type": "markdown",
   "id": "e6f2f2f8",
   "metadata": {},
   "source": [
    "#### Alcance de una función"
   ]
  },
  {
   "cell_type": "code",
   "execution_count": 157,
   "id": "741b6079",
   "metadata": {},
   "outputs": [
    {
     "name": "stdout",
     "output_type": "stream",
     "text": [
      "Hola soy la variable global\n",
      "Hola soy la variable local\n"
     ]
    },
    {
     "ename": "NameError",
     "evalue": "name 'variable_local' is not defined",
     "output_type": "error",
     "traceback": [
      "\u001b[1;31m---------------------------------------------------------------------------\u001b[0m",
      "\u001b[1;31mNameError\u001b[0m                                 Traceback (most recent call last)",
      "\u001b[1;32m~\\AppData\\Local\\Temp/ipykernel_8396/3109203150.py\u001b[0m in \u001b[0;36m<module>\u001b[1;34m\u001b[0m\n\u001b[0;32m      7\u001b[0m \u001b[1;33m\u001b[0m\u001b[0m\n\u001b[0;32m      8\u001b[0m \u001b[0mmostrar_variable\u001b[0m\u001b[1;33m(\u001b[0m\u001b[1;33m)\u001b[0m\u001b[1;33m\u001b[0m\u001b[1;33m\u001b[0m\u001b[0m\n\u001b[1;32m----> 9\u001b[1;33m \u001b[0mprint\u001b[0m\u001b[1;33m(\u001b[0m\u001b[0mvariable_local\u001b[0m\u001b[1;33m)\u001b[0m\u001b[1;33m\u001b[0m\u001b[1;33m\u001b[0m\u001b[0m\n\u001b[0m",
      "\u001b[1;31mNameError\u001b[0m: name 'variable_local' is not defined"
     ]
    }
   ],
   "source": [
    "variable_global = \"Hola soy la variable global\"\n",
    "\n",
    "def mostrar_variable():\n",
    "    print(variable_global)\n",
    "    variable_local = \"Hola soy la variable local\"\n",
    "    print(variable_local)\n",
    "    \n",
    "mostrar_variable()\n",
    "print(variable_local)"
   ]
  },
  {
   "cell_type": "code",
   "execution_count": 159,
   "id": "22724a44",
   "metadata": {},
   "outputs": [
    {
     "name": "stdout",
     "output_type": "stream",
     "text": [
      "El resultado de la suma fue 5\n"
     ]
    }
   ],
   "source": [
    "def suma(numero_1, numero_2):\n",
    "    return numero_1 + numero_2\n",
    "\n",
    "resultado = suma(2,3)\n",
    "print(\"El resultado de la suma fue\",resultado)"
   ]
  },
  {
   "cell_type": "code",
   "execution_count": 151,
   "id": "9facb8ce",
   "metadata": {},
   "outputs": [
    {
     "name": "stdout",
     "output_type": "stream",
     "text": [
      "Solo puede ingresar números enteros\n"
     ]
    },
    {
     "data": {
      "text/plain": [
       "0"
      ]
     },
     "execution_count": 151,
     "metadata": {},
     "output_type": "execute_result"
    }
   ],
   "source": [
    "def suma(numero_1: int, numero_2: int) -> int:\n",
    "    if not isinstance(numero_1, int) or not isinstance(numero_2, int):\n",
    "        print(\"Solo puede ingresar números enteros\")\n",
    "        return 0\n",
    "    else:\n",
    "        return numero_1 + numero_2\n",
    "          \n",
    "suma(numero_1=\"rofl\",numero_2=5)"
   ]
  },
  {
   "cell_type": "markdown",
   "id": "67a3e5ca",
   "metadata": {},
   "source": [
    "### Funciones Lambda"
   ]
  },
  {
   "cell_type": "code",
   "execution_count": 152,
   "id": "74e65ba5",
   "metadata": {},
   "outputs": [
    {
     "data": {
      "text/plain": [
       "6"
      ]
     },
     "execution_count": 152,
     "metadata": {},
     "output_type": "execute_result"
    }
   ],
   "source": [
    "\"\"\"\n",
    "Son funciones anónimas o de una sola línea, pueden recibir\n",
    "varios argumentos, pero solo pueden contener una expresión\n",
    "\n",
    "\"\"\"\n",
    "suma_lambda = lambda numero_1, numero_2: numero_1 + numero_2\n",
    "suma_lambda(2,4)"
   ]
  },
  {
   "cell_type": "code",
   "execution_count": null,
   "id": "b59d962d",
   "metadata": {},
   "outputs": [],
   "source": []
  },
  {
   "cell_type": "code",
   "execution_count": null,
   "id": "3157d699",
   "metadata": {},
   "outputs": [],
   "source": []
  },
  {
   "cell_type": "code",
   "execution_count": null,
   "id": "c742f17c",
   "metadata": {},
   "outputs": [],
   "source": []
  },
  {
   "cell_type": "code",
   "execution_count": null,
   "id": "1636afb6",
   "metadata": {},
   "outputs": [],
   "source": []
  },
  {
   "cell_type": "code",
   "execution_count": null,
   "id": "16401a75",
   "metadata": {},
   "outputs": [],
   "source": []
  },
  {
   "cell_type": "code",
   "execution_count": null,
   "id": "448e76f3",
   "metadata": {},
   "outputs": [],
   "source": []
  },
  {
   "cell_type": "code",
   "execution_count": null,
   "id": "ba3a8cd4",
   "metadata": {},
   "outputs": [],
   "source": []
  }
 ],
 "metadata": {
  "kernelspec": {
   "display_name": "Python 3 (ipykernel)",
   "language": "python",
   "name": "python3"
  },
  "language_info": {
   "codemirror_mode": {
    "name": "ipython",
    "version": 3
   },
   "file_extension": ".py",
   "mimetype": "text/x-python",
   "name": "python",
   "nbconvert_exporter": "python",
   "pygments_lexer": "ipython3",
   "version": "3.9.7"
  }
 },
 "nbformat": 4,
 "nbformat_minor": 5
}
