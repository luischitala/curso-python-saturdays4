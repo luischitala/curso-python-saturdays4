{
 "cells": [
  {
   "cell_type": "markdown",
   "id": "d2bea6d2",
   "metadata": {},
   "source": [
    "# Saturdays.AI Guadalajara 4a Ed. \n",
    "### Data Structures with Python\n",
    "\n",
    "#### Luis Román\n",
    "\n",
    "### Agosto de 2022"
   ]
  },
  {
   "cell_type": "markdown",
   "id": "9880f3ca",
   "metadata": {},
   "source": [
    "Una estructura de datos es una agregación de tipos de datos compuestos y atómicos \n",
    "en un conjunto con relaciones bien definidas. Una estructura significa un conjunto de \n",
    "reglas que contienen los datos juntos"
   ]
  },
  {
   "cell_type": "markdown",
   "id": "a3c5c063",
   "metadata": {},
   "source": [
    "### Listas 🧳"
   ]
  },
  {
   "cell_type": "markdown",
   "id": "38b5a7df",
   "metadata": {},
   "source": [
    "Estructura de datos lineal, mutable y versatil"
   ]
  },
  {
   "cell_type": "code",
   "execution_count": 4,
   "id": "94341abb",
   "metadata": {},
   "outputs": [
    {
     "name": "stdout",
     "output_type": "stream",
     "text": [
      "['h', 'o', 'l', 'a']\n",
      "1\n",
      "2\n"
     ]
    },
    {
     "data": {
      "text/plain": [
       "[1, 2, 3, 4, 5, 6, 20, 8, 9, 2]"
      ]
     },
     "execution_count": 4,
     "metadata": {},
     "output_type": "execute_result"
    }
   ],
   "source": [
    "lista_vacia = []\n",
    "lista_numeros = [1,2,5,4,5,6,20,8,9,2]\n",
    "lista_generada = list(\"hola\")\n",
    "print(lista_generada)\n",
    "# Imprimir el primer valor\n",
    "print(lista_numeros[0])\n",
    "# Imprimir el último valor\n",
    "print(lista_numeros[-1])\n",
    "# Modificar un valor utilizando índices\n",
    "lista_numeros[2] = 3\n",
    "# Imprimir la lista final\n",
    "lista_numeros"
   ]
  },
  {
   "cell_type": "markdown",
   "id": "5646f088",
   "metadata": {},
   "source": [
    "#### Métodos"
   ]
  },
  {
   "cell_type": "markdown",
   "id": "6569e5e1",
   "metadata": {},
   "source": [
    "Para más información consultar: https://www.w3schools.com/python/python_ref_list.asp"
   ]
  },
  {
   "cell_type": "code",
   "execution_count": 5,
   "id": "baf2d35b",
   "metadata": {},
   "outputs": [
    {
     "name": "stdout",
     "output_type": "stream",
     "text": [
      "10\n",
      "[1]\n",
      "[1]\n",
      "La lista ordenada es:  [1, 2, 2, 3, 4, 5, 6, 8, 9, 20]\n"
     ]
    },
    {
     "data": {
      "text/plain": [
       "0"
      ]
     },
     "execution_count": 5,
     "metadata": {},
     "output_type": "execute_result"
    }
   ],
   "source": [
    "# Método len(), para obtener la cantidad de valores contenidos\n",
    "print(len(lista_numeros))\n",
    "# Método append(), agrega un elemento al final de la lista\n",
    "lista_vacia.append(1)\n",
    "print(lista_vacia)\n",
    "# Método pop(), elimina el último elemento de la lista\n",
    "# lista_vacia.pop()\n",
    "print(lista_vacia)\n",
    "# Método sort() ordena la lista \n",
    "lista_numeros.sort()\n",
    "print(\"La lista ordenada es: \", lista_numeros)\n",
    "# Localizar indice con el método index()\n",
    "lista_numeros.index(1)"
   ]
  },
  {
   "cell_type": "markdown",
   "id": "0f7b47c3",
   "metadata": {},
   "source": [
    "#### Slices"
   ]
  },
  {
   "cell_type": "code",
   "execution_count": 7,
   "id": "d612251a",
   "metadata": {},
   "outputs": [
    {
     "data": {
      "text/plain": [
       "['Sábado', 'Domingo']"
      ]
     },
     "execution_count": 7,
     "metadata": {},
     "output_type": "execute_result"
    }
   ],
   "source": [
    "dias_semana = [\"Lunes\", \"Martes\", \"Miércoles\", \"Jueves\", \"Viernes\", \"Sábado\", \"Domingo\"]\n",
    "fin_de_semana = dias_semana[5:]\n",
    "fin_de_semana"
   ]
  },
  {
   "cell_type": "markdown",
   "id": "8d272446",
   "metadata": {},
   "source": [
    "#### Iteración"
   ]
  },
  {
   "cell_type": "code",
   "execution_count": 22,
   "id": "71853f3f",
   "metadata": {},
   "outputs": [
    {
     "name": "stdout",
     "output_type": "stream",
     "text": [
      "Lunes\n",
      "Martes\n",
      "Miércoles\n",
      "Jueves\n",
      "Viernes\n",
      "Sábado\n",
      "Domingo\n"
     ]
    }
   ],
   "source": [
    "# Iteración Simple\n",
    "for dia in dias_semana:\n",
    "    print(dia)"
   ]
  },
  {
   "cell_type": "code",
   "execution_count": 23,
   "id": "062e69e0",
   "metadata": {},
   "outputs": [
    {
     "name": "stdout",
     "output_type": "stream",
     "text": [
      "0 Lunes\n",
      "1 Martes\n",
      "2 Miércoles\n",
      "3 Jueves\n",
      "4 Viernes\n",
      "5 Sábado\n",
      "6 Domingo\n"
     ]
    }
   ],
   "source": [
    "# Iteración considerando el índice\n",
    "for indice, dia in enumerate(dias_semana):\n",
    "    print(indice, dia)"
   ]
  },
  {
   "cell_type": "markdown",
   "id": "ed715162",
   "metadata": {},
   "source": [
    "#### Operadores it & not in"
   ]
  },
  {
   "cell_type": "code",
   "execution_count": 10,
   "id": "92ef1de9",
   "metadata": {},
   "outputs": [
    {
     "data": {
      "text/plain": [
       "True"
      ]
     },
     "execution_count": 10,
     "metadata": {},
     "output_type": "execute_result"
    }
   ],
   "source": [
    "\"Lunes\" in dias_semana"
   ]
  },
  {
   "cell_type": "code",
   "execution_count": 9,
   "id": "9d20f5bd",
   "metadata": {},
   "outputs": [
    {
     "data": {
      "text/plain": [
       "True"
      ]
     },
     "execution_count": 9,
     "metadata": {},
     "output_type": "execute_result"
    }
   ],
   "source": [
    "\"Enero\" not in dias_semana"
   ]
  },
  {
   "cell_type": "markdown",
   "id": "55b88693",
   "metadata": {},
   "source": [
    "### Tuplas 🧳"
   ]
  },
  {
   "cell_type": "markdown",
   "id": "98414dce",
   "metadata": {},
   "source": [
    "Estructura de datos lineal, inmutable y de mejor rendimiento"
   ]
  },
  {
   "cell_type": "code",
   "execution_count": 13,
   "id": "13fa67f3",
   "metadata": {},
   "outputs": [
    {
     "data": {
      "text/plain": [
       "'Lunes'"
      ]
     },
     "execution_count": 13,
     "metadata": {},
     "output_type": "execute_result"
    }
   ],
   "source": [
    "tupla_dias_semana = (\"Lunes\", \"Martes\", \"Miércoles\", \"Jueves\", \"Viernes\", \"Sábado\", \"Domingo\")\n",
    "tupla_dias_semana[0]"
   ]
  },
  {
   "cell_type": "markdown",
   "id": "f14bcc10",
   "metadata": {},
   "source": [
    "#### Métodos"
   ]
  },
  {
   "cell_type": "code",
   "execution_count": 14,
   "id": "e09b99e7",
   "metadata": {},
   "outputs": [
    {
     "data": {
      "text/plain": [
       "1"
      ]
     },
     "execution_count": 14,
     "metadata": {},
     "output_type": "execute_result"
    }
   ],
   "source": [
    "# Método count\n",
    "tupla_dias_semana.count(\"Lunes\")"
   ]
  },
  {
   "cell_type": "code",
   "execution_count": 15,
   "id": "4a84183f",
   "metadata": {},
   "outputs": [
    {
     "data": {
      "text/plain": [
       "4"
      ]
     },
     "execution_count": 15,
     "metadata": {},
     "output_type": "execute_result"
    }
   ],
   "source": [
    "# Método index\n",
    "tupla_dias_semana.index(\"Viernes\")"
   ]
  },
  {
   "cell_type": "markdown",
   "id": "9a58d666",
   "metadata": {},
   "source": [
    "#### Iteración"
   ]
  },
  {
   "cell_type": "code",
   "execution_count": 38,
   "id": "0b547f90",
   "metadata": {},
   "outputs": [
    {
     "name": "stdout",
     "output_type": "stream",
     "text": [
      "0 Lunes\n",
      "1 Martes\n",
      "2 Miércoles\n",
      "3 Jueves\n",
      "4 Viernes\n",
      "5 Sábado\n",
      "6 Domingo\n"
     ]
    }
   ],
   "source": [
    "for index,dia in enumerate(tupla_dias_semana):\n",
    "    print(index, dia)"
   ]
  },
  {
   "cell_type": "markdown",
   "id": "5b0b5d39",
   "metadata": {},
   "source": [
    "#### Conversión entre listas y tuplas"
   ]
  },
  {
   "cell_type": "code",
   "execution_count": 49,
   "id": "153d6bff",
   "metadata": {},
   "outputs": [
    {
     "data": {
      "text/plain": [
       "(1, 2, 3, 4)"
      ]
     },
     "execution_count": 49,
     "metadata": {},
     "output_type": "execute_result"
    }
   ],
   "source": [
    "list((1,2,3,4))\n",
    "tuple([1,2,3,4])"
   ]
  },
  {
   "cell_type": "markdown",
   "id": "3294eb33",
   "metadata": {},
   "source": [
    "### Diccionarios 📚"
   ]
  },
  {
   "cell_type": "code",
   "execution_count": null,
   "id": "771edb6a",
   "metadata": {},
   "outputs": [],
   "source": []
  },
  {
   "cell_type": "markdown",
   "id": "c2d4ea17",
   "metadata": {},
   "source": [
    "Estructura de datos de tipo clave valor ordenada (python > 3.7)"
   ]
  },
  {
   "cell_type": "code",
   "execution_count": 17,
   "id": "9fe90658",
   "metadata": {},
   "outputs": [],
   "source": [
    "diccionario_vacio = {}\n",
    "diccionario_ejemplo = {\n",
    "    \"nombre\":\"Luis\",\n",
    "    \"apellido\":\"Román\",\n",
    "    \"edad\": 27\n",
    "}"
   ]
  },
  {
   "cell_type": "markdown",
   "id": "1cf27d37",
   "metadata": {},
   "source": [
    "#### Métodos"
   ]
  },
  {
   "cell_type": "code",
   "execution_count": 62,
   "id": "5c8d8114",
   "metadata": {},
   "outputs": [
    {
     "name": "stdout",
     "output_type": "stream",
     "text": [
      "Hola mi nombre es Luis Román y tengo 27 años\n"
     ]
    }
   ],
   "source": [
    "\"\"\"\n",
    "El método get() nos trae el valor de un diccionario utilizando la clave\n",
    "\"\"\"\n",
    "print(f'Hola mi nombre es {diccionario_ejemplo.get(\"nombre\")} {diccionario_ejemplo.get(\"apellido\")} y tengo {diccionario_ejemplo.get(\"edad\")} años')"
   ]
  },
  {
   "cell_type": "code",
   "execution_count": 67,
   "id": "47f4567f",
   "metadata": {},
   "outputs": [
    {
     "data": {
      "text/plain": [
       "{'nombre': 'Luis', 'apellido': 'Román', 'edad': 27, 'color_favorito': 'Azul'}"
      ]
     },
     "execution_count": 67,
     "metadata": {},
     "output_type": "execute_result"
    }
   ],
   "source": [
    "\"\"\"\n",
    "setdefault() Nos ayuda a agregar objetos que no se encuentran en el diccionario\n",
    "Verifica si existe primero\n",
    "\"\"\"\n",
    "diccionario_ejemplo.setdefault(\"color_favorito\", \"Azul\")\n",
    "diccionario_ejemplo"
   ]
  },
  {
   "cell_type": "code",
   "execution_count": 74,
   "id": "46e13ff6",
   "metadata": {},
   "outputs": [
    {
     "data": {
      "text/plain": [
       "{'nombre': 'Luis', 'apellido': 'Román', 'color_favorito': 'Azul'}"
      ]
     },
     "execution_count": 74,
     "metadata": {},
     "output_type": "execute_result"
    }
   ],
   "source": [
    "\"\"\"\n",
    "El método pop() elimina un elemento basado su clave y lo regresa\n",
    "\"\"\"\n",
    "\n",
    "diccionario_ejemplo.pop(\"edad\")\n",
    "diccionario_ejemplo"
   ]
  },
  {
   "cell_type": "markdown",
   "id": "7a5f4301",
   "metadata": {},
   "source": [
    "#### Iteración"
   ]
  },
  {
   "cell_type": "code",
   "execution_count": 66,
   "id": "50c73b97",
   "metadata": {},
   "outputs": [
    {
     "name": "stdout",
     "output_type": "stream",
     "text": [
      "nombre\n",
      "apellido\n",
      "edad\n",
      "color_favorito\n",
      "---------------\n",
      "Luis\n",
      "Román\n",
      "27\n",
      "Azul\n"
     ]
    }
   ],
   "source": [
    "\"\"\"\n",
    "values() y keys() al momento de iterar diccionarios\n",
    "\"\"\"\n",
    "# Iteración de llaves\n",
    "for clave in diccionario_ejemplo.keys():\n",
    "    print(clave)\n",
    "    \n",
    "print(\"-\"*15)\n",
    "\n",
    "# Iteración de valores\n",
    "for valor in diccionario_ejemplo.values():\n",
    "    print(valor)"
   ]
  },
  {
   "cell_type": "markdown",
   "id": "126a12e0",
   "metadata": {},
   "source": [
    "#### Verificar si un valor existe "
   ]
  },
  {
   "cell_type": "code",
   "execution_count": 75,
   "id": "53f49dce",
   "metadata": {},
   "outputs": [
    {
     "data": {
      "text/plain": [
       "True"
      ]
     },
     "execution_count": 75,
     "metadata": {},
     "output_type": "execute_result"
    }
   ],
   "source": [
    "# Usando claves\n",
    "\"nombre\" in diccionario_ejemplo.keys()\n",
    "\n",
    "\"color_cabello\" not in diccionario_ejemplo.keys()\n",
    "\n",
    "# Usando valores\n",
    "\"Luis\" in diccionario_ejemplo.values()"
   ]
  },
  {
   "cell_type": "markdown",
   "id": "b9706460",
   "metadata": {},
   "source": [
    "### Sets 🧳"
   ]
  },
  {
   "cell_type": "markdown",
   "id": "c7a5dcd0",
   "metadata": {},
   "source": [
    "Estructura de datos de valores únicos no ordenada. No se puede acceder a sus valores mediante índices.\n",
    "\n",
    "Referencias Extras:\n",
    "\n",
    "-Sets\n",
    "https://www.w3schools.com/PYTHON/python_sets_methods.asp\n",
    "\n",
    "-Sets a fondo\n",
    "https://towardsdatascience.com/10-things-you-should-know-about-sets-in-python-9902828c0e80\n"
   ]
  },
  {
   "cell_type": "code",
   "execution_count": 87,
   "id": "db4d6cf4",
   "metadata": {},
   "outputs": [
    {
     "name": "stdout",
     "output_type": "stream",
     "text": [
      "{1, 2, 3, 4, 5, 7}\n",
      "<class 'set'>\n",
      "<class 'set'>\n"
     ]
    }
   ],
   "source": [
    "#Declaración \n",
    "\n",
    "st = {1,2,3,4,5,7,2,1,5,3}\n",
    "print(st)\n",
    "print(type(st))\n",
    "\n",
    "set_1 = set([2,5,6])\n",
    "print(type(st_1))"
   ]
  },
  {
   "cell_type": "markdown",
   "id": "8d388f93",
   "metadata": {},
   "source": [
    "#### Métodos"
   ]
  },
  {
   "cell_type": "code",
   "execution_count": 101,
   "id": "1a63b96f",
   "metadata": {},
   "outputs": [
    {
     "data": {
      "text/plain": [
       "{5, 6, 10, 23, 41, 80}"
      ]
     },
     "execution_count": 101,
     "metadata": {},
     "output_type": "execute_result"
    }
   ],
   "source": [
    "\"\"\"\n",
    "Método add(), nos permite agregar un elemento al set\n",
    "\"\"\"\n",
    "set_1.add(10)\n",
    "set_1"
   ]
  },
  {
   "cell_type": "code",
   "execution_count": 102,
   "id": "d35fea0c",
   "metadata": {},
   "outputs": [
    {
     "data": {
      "text/plain": [
       "{5, 6, 10, 23, 41, 80}"
      ]
     },
     "execution_count": 102,
     "metadata": {},
     "output_type": "execute_result"
    }
   ],
   "source": [
    "\"\"\"\n",
    "Método update(), nos permite agregar varios elementos al set\n",
    "\"\"\"\n",
    "set_1.update([80,23,41,23])\n",
    "set_1"
   ]
  },
  {
   "cell_type": "code",
   "execution_count": 96,
   "id": "34e541b5",
   "metadata": {},
   "outputs": [
    {
     "ename": "KeyError",
     "evalue": "2",
     "output_type": "error",
     "traceback": [
      "\u001b[1;31m---------------------------------------------------------------------------\u001b[0m",
      "\u001b[1;31mKeyError\u001b[0m                                  Traceback (most recent call last)",
      "\u001b[1;32m~\\AppData\\Local\\Temp/ipykernel_1136/7357692.py\u001b[0m in \u001b[0;36m<module>\u001b[1;34m\u001b[0m\n\u001b[0;32m      3\u001b[0m \u001b[0mPuede\u001b[0m \u001b[0mgenerar\u001b[0m \u001b[0mun\u001b[0m \u001b[0mkey\u001b[0m \u001b[0merror\u001b[0m \u001b[0msi\u001b[0m \u001b[0mno\u001b[0m \u001b[0mse\u001b[0m \u001b[0mencuentra\u001b[0m \u001b[0mel\u001b[0m \u001b[0mvalor\u001b[0m\u001b[1;33m\u001b[0m\u001b[1;33m\u001b[0m\u001b[0m\n\u001b[0;32m      4\u001b[0m \"\"\"\n\u001b[1;32m----> 5\u001b[1;33m \u001b[0mset_1\u001b[0m\u001b[1;33m.\u001b[0m\u001b[0mremove\u001b[0m\u001b[1;33m(\u001b[0m\u001b[1;36m2\u001b[0m\u001b[1;33m)\u001b[0m\u001b[1;33m\u001b[0m\u001b[1;33m\u001b[0m\u001b[0m\n\u001b[0m\u001b[0;32m      6\u001b[0m \u001b[0mset_1\u001b[0m\u001b[1;33m\u001b[0m\u001b[1;33m\u001b[0m\u001b[0m\n",
      "\u001b[1;31mKeyError\u001b[0m: 2"
     ]
    }
   ],
   "source": [
    "\"\"\"\n",
    "Método remove(), nos permite eliminar un elemento del set\n",
    "Puede generar un key error si no se encuentra el valor\n",
    "\"\"\"\n",
    "set_1.remove(2)\n",
    "set_1"
   ]
  },
  {
   "cell_type": "code",
   "execution_count": 99,
   "id": "3d00d14c",
   "metadata": {},
   "outputs": [
    {
     "data": {
      "text/plain": [
       "{5, 6, 10, 23, 41, 80}"
      ]
     },
     "execution_count": 99,
     "metadata": {},
     "output_type": "execute_result"
    }
   ],
   "source": [
    "\"\"\"\n",
    "Método discard(), nos permite eliminar un elemento del set\n",
    "No no genera key error si no se encuentra el valor\n",
    "\"\"\"\n",
    "set_1.discard(2)\n",
    "set_1"
   ]
  },
  {
   "cell_type": "code",
   "execution_count": 100,
   "id": "83103b44",
   "metadata": {},
   "outputs": [
    {
     "data": {
      "text/plain": [
       "{6, 7, 8, 9}"
      ]
     },
     "execution_count": 100,
     "metadata": {},
     "output_type": "execute_result"
    }
   ],
   "source": [
    "\"\"\"\n",
    "Método union(), permite unir dos sets\n",
    "\"\"\"\n",
    "set_2 = {9,8,7}\n",
    "set_3 = {8,7,6}\n",
    "set_2.union(set_3)"
   ]
  },
  {
   "cell_type": "code",
   "execution_count": null,
   "id": "af2aab5d",
   "metadata": {},
   "outputs": [],
   "source": []
  },
  {
   "cell_type": "code",
   "execution_count": null,
   "id": "2bd0be87",
   "metadata": {},
   "outputs": [],
   "source": []
  }
 ],
 "metadata": {
  "kernelspec": {
   "display_name": "Python 3 (ipykernel)",
   "language": "python",
   "name": "python3"
  },
  "language_info": {
   "codemirror_mode": {
    "name": "ipython",
    "version": 3
   },
   "file_extension": ".py",
   "mimetype": "text/x-python",
   "name": "python",
   "nbconvert_exporter": "python",
   "pygments_lexer": "ipython3",
   "version": "3.9.7"
  }
 },
 "nbformat": 4,
 "nbformat_minor": 5
}
